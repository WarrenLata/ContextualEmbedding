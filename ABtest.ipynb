{
 "cells": [
  {
   "cell_type": "markdown",
   "id": "366729fd",
   "metadata": {},
   "source": [
    "# Librairies"
   ]
  },
  {
   "cell_type": "code",
   "execution_count": 2,
   "id": "94e04963",
   "metadata": {},
   "outputs": [
    {
     "name": "stderr",
     "output_type": "stream",
     "text": [
      "c:\\Users\\lataw\\anaconda3\\envs\\vectorization\\Lib\\site-packages\\tqdm\\auto.py:21: TqdmWarning: IProgress not found. Please update jupyter and ipywidgets. See https://ipywidgets.readthedocs.io/en/stable/user_install.html\n",
      "  from .autonotebook import tqdm as notebook_tqdm\n"
     ]
    }
   ],
   "source": [
    "from datasets import load_dataset, concatenate_datasets\n",
    "from sklearn.model_selection import StratifiedKFold\n",
    "from sklearn.model_selection import StratifiedShuffleSplit\n",
    "import numpy as np\n",
    "import torch.nn.functional as F\n",
    "\n",
    "from sklearn.linear_model import LogisticRegression\n",
    "\n",
    "import matplotlib.pyplot as plt"
   ]
  },
  {
   "cell_type": "markdown",
   "id": "8466f583",
   "metadata": {},
   "source": [
    "# Load the data"
   ]
  },
  {
   "cell_type": "code",
   "execution_count": 3,
   "id": "4870acef",
   "metadata": {},
   "outputs": [
    {
     "name": "stdout",
     "output_type": "stream",
     "text": [
      "50000\n",
      "I rented I AM CURIOUS-YELLOW from my video store because of all the controversy that surrounded it when it was first released in 1967. I also heard that at first it was seized by U.S. customs if it ever tried to enter this country, therefore being a fan of films considered \"controversial\" I really had to see this for myself.<br /><br />The plot is centered around a young Swedish drama student named Lena who wants to learn everything she can about life. In particular she wants to focus her attentions to making some sort of documentary on what the average Swede thought about certain political issues such as the Vietnam War and race issues in the United States. In between asking politicians and ordinary denizens of Stockholm about their opinions on politics, she has sex with her drama teacher, classmates, and married men.<br /><br />What kills me about I AM CURIOUS-YELLOW is that 40 years ago, this was considered pornographic. Really, the sex and nudity scenes are few and far between, even then it's not shot like some cheaply made porno. While my countrymen mind find it shocking, in reality sex and nudity are a major staple in Swedish cinema. Even Ingmar Bergman, arguably their answer to good old boy John Ford, had sex scenes in his films.<br /><br />I do commend the filmmakers for the fact that any sex shown in the film is shown for artistic purposes rather than just to shock people and make money to be shown in pornographic theaters in America. I AM CURIOUS-YELLOW is a good film for anyone wanting to study the meat and potatoes (no pun intended) of Swedish cinema. But really, this film doesn't have much of a plot.\n"
     ]
    }
   ],
   "source": [
    "\n",
    "# Load IMDb dataset\n",
    "raw = load_dataset(\"imdb\")\n",
    "\n",
    "# Combine train + test into a single dataset (50k rows)\n",
    "all_data = concatenate_datasets([raw[\"train\"], raw[\"test\"]])\n",
    "texts = all_data['text']\n",
    "print(len(all_data))  # 50000\n",
    "print(all_data[0]['text'])"
   ]
  },
  {
   "cell_type": "markdown",
   "id": "5e195219",
   "metadata": {},
   "source": [
    "## stritified k-folds"
   ]
  },
  {
   "cell_type": "code",
   "execution_count": 4,
   "id": "00cc9170",
   "metadata": {},
   "outputs": [],
   "source": [
    "sss = StratifiedShuffleSplit(n_splits=1, test_size=10000, random_state=42)\n",
    "y      = np.array(all_data['label'])\n",
    "_, idx_1k = next(sss.split(texts, y))\n",
    "texts_1k = np.array(texts)[idx_1k]\n",
    "y_1k     = y[idx_1k]"
   ]
  },
  {
   "cell_type": "code",
   "execution_count": 5,
   "id": "857d21e6",
   "metadata": {},
   "outputs": [],
   "source": [
    "\n",
    "skf = StratifiedKFold(n_splits=20, shuffle=True, random_state=42)\n",
    "splits = list(skf.split(np.zeros(len(y_1k)), y_1k))"
   ]
  },
  {
   "cell_type": "markdown",
   "id": "91f31258",
   "metadata": {},
   "source": [
    "## Text length distribution"
   ]
  },
  {
   "cell_type": "code",
   "execution_count": 6,
   "id": "70cae435",
   "metadata": {},
   "outputs": [
    {
     "data": {
      "image/png": "[encoded data removed]",
      "text/plain": [
       "<Figure size 640x480 with 1 Axes>"
      ]
     },
     "metadata": {},
     "output_type": "display_data"
    }
   ],
   "source": [
    "lengths_data = [len(t.split()) for t in texts_1k]\n",
    "\n",
    "plt.hist(lengths_data)\n",
    "plt.show()"
   ]
  },
  {
   "cell_type": "markdown",
   "id": "648460c6",
   "metadata": {},
   "source": [
    "# CLeaning"
   ]
  },
  {
   "cell_type": "code",
   "execution_count": 7,
   "id": "ebc364c0",
   "metadata": {},
   "outputs": [],
   "source": [
    "import re, html, unicodedata\n",
    "\n",
    "_WS        = re.compile(r\"\\s+\")\n",
    "_HTML_TAG  = re.compile(r\"<[^>]+>\")\n",
    "_BR        = re.compile(r\"<br\\s*/?>\", flags=re.I)\n",
    "_RATING    = re.compile(r\"\\b\\d{1,2}\\s*/\\s*10\\b\")  # e.g. 8/10, 10/10\n",
    "\n",
    "def minimal_clean(text: str, max_words: int = 800) -> str:\n",
    "    t = unicodedata.normalize(\"NFKC\", str(text))  # unicode normalize\n",
    "    t = html.unescape(t)                          # decode &amp; etc.\n",
    "    t = _BR.sub(\" \", t)                           # <br> -> space\n",
    "    t = _HTML_TAG.sub(\" \", t)                     # drop other tags\n",
    "    t = _RATING.sub(\" \", t)                       # remove 8/10 leaks\n",
    "    t = _WS.sub(\" \", t).strip()  \n",
    "   \n",
    "    return t"
   ]
  },
  {
   "cell_type": "markdown",
   "id": "60756d65",
   "metadata": {},
   "source": []
  },
  {
   "cell_type": "markdown",
   "id": "43dd6677",
   "metadata": {},
   "source": [
    "## Transformers model"
   ]
  },
  {
   "cell_type": "code",
   "execution_count": 8,
   "id": "7ec40ea3",
   "metadata": {},
   "outputs": [],
   "source": [
    "import numpy as np\n",
    "import torch\n",
    "import torch.nn as nn\n",
    "import torch.nn.functional as F\n",
    "from transformers import AutoTokenizer, AutoModel\n",
    "\n",
    "\n",
    "#device ='cpu'\n",
    "device = \"cuda\" if torch.cuda.is_available() else \"cpu\"\n",
    "model_name = \"sentence-transformers/all-MiniLM-L6-v2\"  \n",
    "tokenizer = AutoTokenizer.from_pretrained(model_name)\n",
    "encoder   = AutoModel.from_pretrained(model_name).to(device)\n",
    "\n",
    "def mean_pooling(model_output, attention_mask):\n",
    "    token_embeddings = model_output[0] #First element of model_output contains all token embeddings\n",
    "    input_mask_expanded = attention_mask.unsqueeze(-1).expand(token_embeddings.size()).float()\n",
    "    return torch.sum(token_embeddings * input_mask_expanded, 1) / torch.clamp(input_mask_expanded.sum(1), min=1e-9)\n",
    "\n",
    "class TransformersEmbedder(nn.Module):\n",
    "    def __init__(self, tokenizer, encoder, device,batch_size: int = 64,max_length=512,stride:int=128, chunck_batch = 16):\n",
    "        super().__init__()\n",
    "        self.tokenizer =  tokenizer\n",
    "        self.encoder  = encoder.eval()\n",
    "        self.device = device\n",
    "        self.batch_size = batch_size\n",
    "        self.max_length = max_length\n",
    "        self.stride = stride\n",
    "        self.chunck_batch = chunck_batch\n",
    "\n",
    "\n",
    "    def forward(self, texts):\n",
    "        \n",
    "        embs = []\n",
    "        \n",
    "        with torch.no_grad():\n",
    "            for t in texts:\n",
    "                \n",
    "                encoded = self.tokenizer(\n",
    "                    t,\n",
    "                    truncation=True,\n",
    "                    stride = self.stride,\n",
    "                    return_tensors=\"pt\",\n",
    "                    return_overflowing_tokens=True,\n",
    "                    max_length = self.max_length,\n",
    "                    padding=True\n",
    "                ).to(self.device)\n",
    "\n",
    "                input_ids, attention = encoded['input_ids'] , encoded['attention_mask']\n",
    "                chunks_vect = []\n",
    "                token_counts = []\n",
    "                for j in range(0,input_ids.size()[0],self.chunck_batch):\n",
    "                    ids_b = input_ids[j:j+self.chunck_batch]\n",
    "                    attn_b =  attention[j:j+self.chunck_batch]\n",
    "                    output = self.encoder(input_ids=ids_b, attention_mask=attn_b)\n",
    "                    embeddings = mean_pooling(output, attn_b)\n",
    "                    #embeddings = F.normalize(embeddings, p=2, dim=1)\n",
    "                    chunks_vect.append(embeddings.cpu().numpy().astype(np.float32))\n",
    "                    token_counts.append(attn_b.sum(dim=1).cpu().numpy().astype(np.float32))\n",
    "                chunks_vect = np.vstack(chunks_vect).astype(np.float32)\n",
    "                token_counts = np.concatenate(token_counts).astype(np.float32)  # (C,\n",
    "\n",
    "                w = token_counts / (token_counts.sum() + 1e-9)     # weights\n",
    "                doc = (chunks_vect * w[:, None]).sum(axis=0)\n",
    "                embs.append(doc / (np.linalg.norm(doc) + 1e-9))\n",
    "        return np.vstack(embs)  # shape: (B, h,p=idden_size)\n",
    "    \n",
    "\n",
    "model = TransformersEmbedder(tokenizer, encoder, device)"
   ]
  },
  {
   "cell_type": "code",
   "execution_count": 9,
   "id": "7d12d521",
   "metadata": {},
   "outputs": [],
   "source": [
    "All_mini_vectors = model([minimal_clean(t) for t in list(texts_1k)])"
   ]
  },
  {
   "cell_type": "markdown",
   "id": "f6749db8",
   "metadata": {},
   "source": [
    "# Static vector"
   ]
  },
  {
   "cell_type": "code",
   "execution_count": 10,
   "id": "261db5fd",
   "metadata": {},
   "outputs": [],
   "source": [
    "\n",
    "def minimal_clean(text: str, max_words: int = 800) -> str:\n",
    "    t = unicodedata.normalize(\"NFKC\", str(text))  # unicode normalize\n",
    "    t = html.unescape(t)                          # decode &amp; etc.\n",
    "    t = _BR.sub(\" \", t)                           # <br> -> space\n",
    "    t = _HTML_TAG.sub(\" \", t)                     # drop other tags\n",
    "    t = _RATING.sub(\" \", t)                       # remove 8/10 leaks\n",
    "    t = _WS.sub(\" \", t).strip()\n",
    "    t = t.lower()  \n",
    "   \n",
    "    return t"
   ]
  },
  {
   "cell_type": "code",
   "execution_count": 11,
   "id": "7dd4898c",
   "metadata": {},
   "outputs": [],
   "source": [
    "from sklearn.feature_extraction.text import TfidfVectorizer\n",
    "import numpy as np\n",
    "\n",
    "\n",
    "class TfidfEmbedder:\n",
    "    def __init__(self,\n",
    "                 analyzer=\"word\",\n",
    "                 ngram_range=(1,2),\n",
    "                 min_df=2,\n",
    "                 max_df=0.9,\n",
    "                 sublinear_tf=True,\n",
    "                 norm=\"l2\"):\n",
    "        self.vec = TfidfVectorizer(analyzer=analyzer,\n",
    "                                   ngram_range=ngram_range,\n",
    "                                   min_df=min_df, max_df=max_df,\n",
    "                                   sublinear_tf=sublinear_tf,\n",
    "                                   norm=norm,\n",
    "                                   preprocessor=minimal_clean)\n",
    "    def fit(self, texts):\n",
    "        self.vec.fit(texts)\n",
    "        return self\n",
    "    def transform(self, texts):\n",
    "        return self.vec.transform(texts)\n",
    "    \n",
    "\n",
    "\n"
   ]
  },
  {
   "cell_type": "markdown",
   "id": "ce5ac873",
   "metadata": {},
   "source": [
    "# Training and score computation"
   ]
  },
  {
   "cell_type": "code",
   "execution_count": 12,
   "id": "1aa56f76",
   "metadata": {},
   "outputs": [],
   "source": [
    "from sklearn.metrics import accuracy_score, f1_score\n",
    "\n",
    "correct_A_list = []\n",
    "correct_B_list =  []\n",
    "length_text = []\n",
    "accuracies_A = []\n",
    "accuracies_B = []\n",
    "for fold, (tr,te) in enumerate(skf.split(np.zeros(len(y_1k)), y_1k)):\n",
    "    tr_transformers = All_mini_vectors[tr]\n",
    "    te_transformers = All_mini_vectors[te]\n",
    "    \n",
    "   \n",
    "    y_test = y_1k[te]\n",
    "\n",
    "    tr = list(tr)\n",
    "    te = list(te)\n",
    "\n",
    "    tf_embed = TfidfEmbedder()\n",
    "    tf_vector_train = tf_embed.vec.fit_transform(texts_1k[tr])\n",
    "    tf_vector_test = tf_embed.transform(texts_1k[te])\n",
    "    \n",
    "\n",
    "\n",
    "    model_A = LogisticRegression(max_iter=2000,solver=\"lbfgs\").fit(tr_transformers,y_1k[tr])\n",
    "    model_B =  LogisticRegression(max_iter=2000,solver=\"liblinear\").fit(tf_vector_train,y_1k[tr])\n",
    "\n",
    "    y_hat_A =  model_A.predict(te_transformers)\n",
    "    y_hat_B = model_B.predict(tf_vector_test)\n",
    "    \n",
    "    correct_A = (y_hat_A == y_test)\n",
    "    correct_B = (y_hat_B == y_test)\n",
    "\n",
    "    correct_A_list.append(correct_A)\n",
    "    correct_B_list.append(correct_B)\n",
    "    length_text.append([len(minimal_clean(texts_1k[i].split())) for i in te])\n",
    "\n",
    "\n",
    "    accuracies_A.append(accuracy_score(y_test,y_hat_A))\n",
    "\n",
    "    accuracies_B.append(accuracy_score(y_test,y_hat_B))\n",
    "\n",
    "\n",
    "\n",
    "\n",
    "\n"
   ]
  },
  {
   "cell_type": "code",
   "execution_count": 13,
   "id": "5be366bb",
   "metadata": {},
   "outputs": [],
   "source": [
    "accuracies_A = np.array(accuracies_A)\n",
    "accuracies_B = np.array(accuracies_B)\n",
    "\n",
    "correct_A = np.concatenate(correct_A_list).astype(int)   # shape (N,)\n",
    "correct_B = np.concatenate(correct_B_list).astype(int)   # shape (N,)\n",
    "lengths   = np.array([L for fold_L in length_text for L in fold_L], dtype=int)  # shape (N,)"
   ]
  },
  {
   "cell_type": "markdown",
   "id": "96924021",
   "metadata": {},
   "source": [
    "## Results per folds"
   ]
  },
  {
   "cell_type": "code",
   "execution_count": 14,
   "id": "7d79447a",
   "metadata": {},
   "outputs": [
    {
     "name": "stdout",
     "output_type": "stream",
     "text": [
      "p_value : 9.999000099990002e-05\n"
     ]
    }
   ],
   "source": [
    "import random\n",
    "from statistics import mean\n",
    "\n",
    "def paired_perm_folds(acc_A, acc_B, n_perm=10000, seed=42):\n",
    "    rng = np.random.default_rng(seed)\n",
    "    d = np.asarray(acc_A, float) - np.asarray(acc_B, float)  # paired diffs per fold\n",
    "    delta_obs = d.mean()\n",
    "    k = d.size\n",
    "    diffs = np.empty(n_perm, float)\n",
    "    for i in range(n_perm):\n",
    "        sign = np.where(rng.random(k) < 0.5, 1.0, -1.0)      # flip each pair with p=0.5\n",
    "        diffs[i] = (sign * d).mean()\n",
    "    p = (np.sum(np.abs(diffs)>= abs(delta_obs))+1) / (n_perm+1)  # two-sided\n",
    "    return float(delta_obs), float(p), diffs\n",
    "\n",
    "\n",
    "obs, p, diffs = paired_perm_folds(accuracies_A,accuracies_B)\n",
    "\n",
    "print(f\"p_value : {p}\")\n",
    "\n"
   ]
  },
  {
   "cell_type": "markdown",
   "id": "1d761abc",
   "metadata": {},
   "source": [
    "## Results per instance"
   ]
  },
  {
   "cell_type": "code",
   "execution_count": 15,
   "id": "9b732a1e",
   "metadata": {},
   "outputs": [
    {
     "name": "stdout",
     "output_type": "stream",
     "text": [
      "p_value : 9.999000099990002e-05\n"
     ]
    }
   ],
   "source": [
    "def paired_perm_instance(correct_A, correct_B, n_perm=10000, seed=42):\n",
    "    rng = np.random.default_rng(seed)\n",
    "    A = np.asarray(correct_A, int); B = np.asarray(correct_B, int)\n",
    "    delta_obs = A.mean() - B.mean()\n",
    "    N = A.size\n",
    "    diffs = np.empty(n_perm, float)\n",
    "    for i in range(n_perm):\n",
    "        swap = rng.random(N) < 0.5\n",
    "        A_p = np.where(swap, B, A)\n",
    "        B_p = np.where(swap, A, B)\n",
    "        diffs[i] = A_p.mean() - B_p.mean()\n",
    "    p = (np.sum(np.abs(diffs) >= abs(delta_obs)) + 1) / (n_perm + 1)\n",
    "    return float(delta_obs), float(p),diffs\n",
    "obs, p, diffs = paired_perm_instance(correct_A,correct_B)\n",
    "\n",
    "print(f\"p_value : {p}\")"
   ]
  },
  {
   "cell_type": "code",
   "execution_count": 17,
   "id": "47c6e6f0",
   "metadata": {},
   "outputs": [
    {
     "name": "stdout",
     "output_type": "stream",
     "text": [
      "p_value : 9.99999000001e-07\n"
     ]
    }
   ],
   "source": [
    "def paired_perm_instance(correct_A, correct_B, n_perm=1000000, seed=42):\n",
    "    rng = np.random.default_rng(seed)\n",
    "    A = np.asarray(correct_A, int); B = np.asarray(correct_B, int)\n",
    "    delta_obs = A.mean() - B.mean()\n",
    "    N = A.size\n",
    "    diffs = np.empty(n_perm, float)\n",
    "    for i in range(n_perm):\n",
    "        swap = rng.random(N) < 0.5\n",
    "        A_p = np.where(swap, B, A)\n",
    "        B_p = np.where(swap, A, B)\n",
    "        diffs[i] = A_p.mean() - B_p.mean()\n",
    "    p = (np.sum(np.abs(diffs) >= abs(delta_obs)) + 1) / (n_perm + 1)\n",
    "    return float(delta_obs), float(p),diffs\n",
    "obs, p, diffs = paired_perm_instance(correct_A,correct_B)\n",
    "\n",
    "print(f\"p_value : {p}\")"
   ]
  },
  {
   "cell_type": "markdown",
   "id": "cefaeea0",
   "metadata": {},
   "source": [
    "## Boostrap CI"
   ]
  },
  {
   "cell_type": "code",
   "execution_count": 18,
   "id": "11251bd7",
   "metadata": {},
   "outputs": [],
   "source": [
    "def bootstrap_ci_diff(correct_A, correct_B, B=100000, seed=42):\n",
    "    import numpy as np\n",
    "    rng = np.random.default_rng(seed)\n",
    "    N = len(correct_A)\n",
    "    deltas = np.empty(B, float)\n",
    "    A = np.asarray(correct_A, int); Bv = np.asarray(correct_B, int)\n",
    "    for i in range(B):\n",
    "        idx = rng.integers(0, N, size=N)\n",
    "        deltas[i] = A[idx].mean() - Bv[idx].mean()\n",
    "    return float(np.quantile(deltas, 0.025)), float(np.quantile(deltas, 0.975))\n",
    "\n",
    "\n",
    "end_min,end_max = bootstrap_ci_diff(correct_A, correct_B, B=100000, seed=0)"
   ]
  },
  {
   "cell_type": "markdown",
   "id": "6c0ca047",
   "metadata": {},
   "source": [
    "## Vizualization"
   ]
  },
  {
   "cell_type": "code",
   "execution_count": 19,
   "id": "9f251e07",
   "metadata": {},
   "outputs": [
    {
     "data": {
      "text/plain": [
       "<matplotlib.lines.Line2D at 0x1838f32c230>"
      ]
     },
     "execution_count": 19,
     "metadata": {},
     "output_type": "execute_result"
    },
    {
     "data": {
      "image/png": "[encoded data removed]",
      "text/plain": [
       "<Figure size 640x480 with 1 Axes>"
      ]
     },
     "metadata": {},
     "output_type": "display_data"
    }
   ],
   "source": [
    "plt.hist(diffs)\n",
    "plt.axvline(x=obs, color='r', linestyle='--', label ='observed difference')\n",
    "plt.axvline(x=end_min, color='b', linestyle='--', label ='min')\n",
    "plt.axvline(x=end_max, color='b', linestyle='--', label ='max')"
   ]
  },
  {
   "cell_type": "markdown",
   "id": "42cfd928",
   "metadata": {},
   "source": [
    "## Analysis by text length"
   ]
  },
  {
   "cell_type": "code",
   "execution_count": 20,
   "id": "d562ca22",
   "metadata": {},
   "outputs": [
    {
     "name": "stdout",
     "output_type": "stream",
     "text": [
      "short  | n=3329 | acc_A=0.838 acc_B=0.894 | Δ=-0.056 | p_perm=0.000\n",
      "medium | n=3336 | acc_A=0.819 acc_B=0.878 | Δ=-0.059 | p_perm=0.000\n",
      "long   | n=3335 | acc_A=0.817 acc_B=0.890 | Δ=-0.073 | p_perm=0.000\n"
     ]
    }
   ],
   "source": [
    "q1, q2 = np.quantile(lengths, [1/3, 2/3])\n",
    "bins = np.digitize(lengths, [q1, q2])   # 0=short, 1=medium, 2=long\n",
    "\n",
    "for b, name in enumerate([\"short\", \"medium\", \"long\"]):\n",
    "    idx = (bins == b)\n",
    "    n = int(idx.sum())\n",
    "    if n < 20:\n",
    "        print(f\"{name}: too few samples (n={n})\"); \n",
    "        continue\n",
    "\n",
    "    acc_A = float(correct_A[idx].mean())\n",
    "    acc_B = float(correct_B[idx].mean())\n",
    "    obs,p, diffs = paired_perm_instance(correct_A[idx], correct_B[idx], n_perm=10000, seed=123)\n",
    "\n",
    "    print(f\"{name:<6} | n={n:4d} | acc_A={acc_A:.3f} acc_B={acc_B:.3f} | Δ={obs:+.3f} | p_perm={p:.3f}\")"
   ]
  },
  {
   "cell_type": "markdown",
   "id": "4513ebf5",
   "metadata": {},
   "source": [
    "# Power study"
   ]
  },
  {
   "cell_type": "code",
   "execution_count": 22,
   "id": "5c32b9f0",
   "metadata": {},
   "outputs": [],
   "source": [
    "P11 = np.where((correct_A==1)& (correct_B==1),1,0).sum()/len(correct_A)\n",
    "P00 = np.where((correct_A==0)& (correct_B==0),1,0).sum()/len(correct_A)\n",
    "P10 = np.where((correct_A==1)& (correct_B==0),1,0).sum()/len(correct_A)\n",
    "P01 = np.where((correct_A==0)& (correct_B==1),1,0).sum()/len(correct_A)"
   ]
  },
  {
   "cell_type": "code",
   "execution_count": 23,
   "id": "e6324614",
   "metadata": {},
   "outputs": [],
   "source": [
    "\n",
    "pvals = [P11,P00,P10,P01]\n"
   ]
  },
  {
   "cell_type": "code",
   "execution_count": 25,
   "id": "f93185b9",
   "metadata": {},
   "outputs": [
    {
     "data": {
      "text/plain": [
       "<BarContainer object of 4 artists>"
      ]
     },
     "execution_count": 25,
     "metadata": {},
     "output_type": "execute_result"
    },
    {
     "data": {
      "image/png": "[encoded data removed]",
      "text/plain": [
       "<Figure size 640x480 with 1 Axes>"
      ]
     },
     "metadata": {},
     "output_type": "display_data"
    }
   ],
   "source": [
    "plt.bar(['P11','P00','P10','P01'],pvals)"
   ]
  },
  {
   "cell_type": "markdown",
   "id": "67a1d57a",
   "metadata": {},
   "source": [
    "## Calibration"
   ]
  },
  {
   "cell_type": "code",
   "execution_count": 26,
   "id": "936c0f81",
   "metadata": {},
   "outputs": [],
   "source": [
    "P_cal = (P10+P01)/2\n",
    "pvals_calibration = [P11,P00,P_cal,P_cal]"
   ]
  },
  {
   "cell_type": "code",
   "execution_count": null,
   "id": "343a6f54",
   "metadata": {},
   "outputs": [],
   "source": [
    "def calibration_from_multinomial(N_list, pvals, M=1000, n_perm=10000, alpha=0.05, seed=0):\n",
    "  \n",
    "    \n",
    "    rng = np.random.default_rng(seed)\n",
    "    mapping = np.array([[1,1],[0,0],[1,0],[0,1]], dtype=int)\n",
    "\n",
    "    out = []\n",
    "    for N in N_list:\n",
    "        rej = 0\n",
    "        for _ in range(M):\n",
    "            states = rng.choice(4, size=N, p=pvals)\n",
    "            pairs  = mapping[states]           \n",
    "            A, B = pairs[:,0], pairs[:,1]\n",
    "            _, p, _ = paired_perm_instance(A, B,n_perm=n_perm)\n",
    "            rej += (p <= alpha)\n",
    "        false_p = rej / M\n",
    "        se = (false_p * (1 - false_p) / M) ** 0.5 \n",
    "        out.append((N, false_p, se))\n",
    "    return out\n",
    "\n",
    "results_calibration = calibration_from_multinomial([50,100,300,400,500,700,1000,1000,1500,2000,5000,10000],pvals_calibration)"
   ]
  },
  {
   "cell_type": "code",
   "execution_count": 28,
   "id": "bfbb0576",
   "metadata": {},
   "outputs": [],
   "source": [
    "N_arr = np.array([cal[0] for cal in results_calibration])\n",
    "false_p = np.array([cal[1] for cal in results_calibration])\n",
    "SE_arr = np.array([cal[2] for cal in results_calibration])"
   ]
  },
  {
   "cell_type": "code",
   "execution_count": 29,
   "id": "74efb9a6",
   "metadata": {},
   "outputs": [
    {
     "data": {
      "image/png": "[encoded data removed]",
      "text/plain": [
       "<Figure size 700x450 with 1 Axes>"
      ]
     },
     "metadata": {},
     "output_type": "display_data"
    }
   ],
   "source": [
    "plt.figure(figsize=(7,4.5))\n",
    "# Barres d'erreur = IC95% Monte-Carlo (±1.96*SE)\n",
    "plt.errorbar(N_arr, false_p, yerr=1.96*SE_arr, fmt='o-')\n",
    "plt.axhline(0.05, linestyle='--')  # repère 80%\n",
    "plt.ylim(0, 1)\n",
    "plt.xlabel(\"Size of the sample\")\n",
    "plt.ylabel(\"False positive\")\n",
    "\n",
    "title = f\"(Calibration, α={str(0.05)})\"\n",
    "plt.title(title)\n",
    "plt.grid(True, alpha=0.3)\n",
    "plt.show()"
   ]
  },
  {
   "cell_type": "markdown",
   "id": "13c904fc",
   "metadata": {},
   "source": [
    "## Analysis"
   ]
  },
  {
   "cell_type": "code",
   "execution_count": null,
   "id": "85c25dc7",
   "metadata": {},
   "outputs": [],
   "source": [
    "def power_from_multinomial(N_list, pvals, M=1000, n_perm=10000, alpha=0.05, seed=0):\n",
    "  \n",
    "    rng = np.random.default_rng(seed)\n",
    "    mapping = np.array([[1,1],[0,0],[1,0],[0,1]], dtype=int)\n",
    "\n",
    "    out = []\n",
    "    for N in N_list:\n",
    "        rej = 0\n",
    "        for _ in range(M):\n",
    "            # tirer les états directement (catégorielle)\n",
    "            states = rng.choice(4, size=N, p=pvals)\n",
    "            pairs  = mapping[states]             # shape (N,2)\n",
    "            A, B = pairs[:,0], pairs[:,1]\n",
    "            _, p, _ = paired_perm_instance(A, B,n_perm=n_perm)\n",
    "            rej += (p <= alpha)\n",
    "        power_hat = rej / M\n",
    "        se = (power_hat * (1 - power_hat) / M) ** 0.5  # erreur MC (proportion)\n",
    "        out.append((N, power_hat, se))\n",
    "    return out\n",
    "\n",
    "results_power = power_from_multinomial([50,100,300,400,500,700,1000,1000,1500,2000,5000,10000],pvals)"
   ]
  },
  {
   "cell_type": "code",
   "execution_count": 37,
   "id": "400408e8",
   "metadata": {},
   "outputs": [],
   "source": [
    "N_arr = np.array([power[0] for power in results_power])\n",
    "power_arr = np.array([power[1] for power in results_power])\n",
    "SE_arr = np.array([power[2] for power in results_power])\n",
    "\n"
   ]
  },
  {
   "cell_type": "code",
   "execution_count": 160,
   "id": "fd4484c8",
   "metadata": {},
   "outputs": [
    {
     "data": {
      "text/plain": [
       "[(50, 0.104, 0.009653186002558949),\n",
       " (100, 0.272, 0.014071815803228808),\n",
       " (300, 0.744, 0.013800869537822608),\n",
       " (400, 0.885, 0.010088359628799917),\n",
       " (500, 0.951, 0.006826346021115546),\n",
       " (700, 0.992, 0.0028170906978654425),\n",
       " (1000, 0.999, 0.0009994998749374613),\n",
       " (1000, 1.0, 0.0),\n",
       " (1500, 1.0, 0.0),\n",
       " (2000, 1.0, 0.0),\n",
       " (5000, 1.0, 0.0),\n",
       " (10000, 1.0, 0.0)]"
      ]
     },
     "execution_count": 160,
     "metadata": {},
     "output_type": "execute_result"
    }
   ],
   "source": [
    "results_power"
   ]
  },
  {
   "cell_type": "code",
   "execution_count": null,
   "id": "720dbad8",
   "metadata": {},
   "outputs": [
    {
     "data": {
      "image/png": "[encoded data removed]",
      "text/plain": [
       "<Figure size 700x450 with 1 Axes>"
      ]
     },
     "metadata": {},
     "output_type": "display_data"
    }
   ],
   "source": [
    "\n",
    "plt.figure(figsize=(7,4.5))\n",
    "# Barres d'erreur = IC95% Monte-Carlo (±1.96*SE)\n",
    "plt.errorbar(N_arr, power_arr, yerr=1.96*SE_arr, fmt='o-')\n",
    "plt.axhline(0.8, linestyle='--')  # repère 80%\n",
    "plt.axhline(0.9, linestyle='--')  # repère 90%\n",
    "plt.ylim(0, 1)\n",
    "plt.xlabel(\"Size of the sample\")\n",
    "plt.ylabel(\"Power (prob. of reject)\")\n",
    "\n",
    "title = f\"Power (paired permutation, α={str(0.05)})\"\n",
    "plt.title(title)\n",
    "plt.grid(True, alpha=0.3)\n",
    "plt.show()"
   ]
  },
  {
   "cell_type": "markdown",
   "id": "714ff168",
   "metadata": {},
   "source": [
    "# Replication"
   ]
  },
  {
   "cell_type": "code",
   "execution_count": 55,
   "id": "26cae638",
   "metadata": {},
   "outputs": [],
   "source": [
    "N = len(y)\n",
    "all_idx = np.arange(N)\n",
    "\n",
    "rest_idx = np.setdiff1d(all_idx, idx_1k, assume_unique=False)"
   ]
  },
  {
   "cell_type": "code",
   "execution_count": null,
   "id": "b4fb3a28",
   "metadata": {},
   "outputs": [],
   "source": [
    "sss_r = StratifiedShuffleSplit(n_splits=2, test_size=10000, random_state=42)\n",
    "_, idx_1k_r = next(sss_r.split(np.zeros(len(rest_idx)), y[rest_idx]))\n",
    "test_idx= rest_idx[idx_1k_r]\n",
    "\n",
    "texts_1k_r = np.array(texts)[test_idx]\n",
    "y_1k_r     = y[test_idx]\n",
    "assert len(set(idx_1k) & set(test_idx)) == 0, \"Overlap detected!\""
   ]
  },
  {
   "cell_type": "code",
   "execution_count": null,
   "id": "81dd24c5",
   "metadata": {},
   "outputs": [],
   "source": [
    "\n",
    "\n",
    "def minimal_clean(text: str, max_words: int = 800) -> str:\n",
    "    t = unicodedata.normalize(\"NFKC\", str(text))  # unicode normalize\n",
    "    t = html.unescape(t)                          # decode &amp; etc.\n",
    "    t = _BR.sub(\" \", t)                           # <br> -> space\n",
    "    t = _HTML_TAG.sub(\" \", t)                     # drop other tags\n",
    "    t = _RATING.sub(\" \", t)                       # remove 8/10 leaks\n",
    "    t = _WS.sub(\" \", t).strip()  \n",
    "   \n",
    "    return t\n",
    "All_mini_vectors_r = model([minimal_clean(t) for t in list(texts_1k_r)])"
   ]
  },
  {
   "cell_type": "code",
   "execution_count": 126,
   "id": "28bedd42",
   "metadata": {},
   "outputs": [],
   "source": [
    "def minimal_clean(text: str, max_words: int = 800) -> str:\n",
    "    t = unicodedata.normalize(\"NFKC\", str(text))  # unicode normalize\n",
    "    t = html.unescape(t)                          # decode &amp; etc.\n",
    "    t = _BR.sub(\" \", t)                           # <br> -> space\n",
    "    t = _HTML_TAG.sub(\" \", t)                     # drop other tags\n",
    "    t = _RATING.sub(\" \", t)                       # remove 8/10 leaks\n",
    "    t = _WS.sub(\" \", t).strip()\n",
    "    t = t.lower()  \n",
    "   \n",
    "    return t"
   ]
  },
  {
   "cell_type": "code",
   "execution_count": 134,
   "id": "535bd1bc",
   "metadata": {},
   "outputs": [],
   "source": [
    "from sklearn.model_selection import train_test_split\n",
    "\n",
    "X_train, X_test = train_test_split([i for i in range(10000)], test_size=0.1, random_state=42)\n"
   ]
  },
  {
   "cell_type": "code",
   "execution_count": 128,
   "id": "92f1db99",
   "metadata": {},
   "outputs": [],
   "source": [
    "tr_transformers = All_mini_vectors_r[X_train]\n",
    "te_transformers = All_mini_vectors_r[X_test]\n",
    "\n",
    "\n",
    "y_test = y_1k_r[X_test]\n",
    "\n",
    "tr = list(X_train)\n",
    "te = list(X_test)\n",
    "\n",
    "tf_embed = TfidfEmbedder()\n",
    "tf_vector_train = tf_embed.vec.fit_transform(texts_1k_r[tr])\n",
    "tf_vector_test = tf_embed.transform(texts_1k_r[te])\n",
    "\n",
    "\n",
    "\n",
    "model_A = LogisticRegression(max_iter=2000,solver=\"lbfgs\").fit(tr_transformers,y_1k_r[tr])\n",
    "model_B =  LogisticRegression(max_iter=2000,solver=\"liblinear\").fit(tf_vector_train,y_1k_r[tr])\n",
    "\n",
    "y_hat_A =  model_A.predict(te_transformers)\n",
    "y_hat_B = model_B.predict(tf_vector_test)\n",
    "\n",
    "correct_A = (y_hat_A == y_test)\n",
    "correct_B = (y_hat_B == y_test)\n"
   ]
  },
  {
   "cell_type": "code",
   "execution_count": 129,
   "id": "88e33060",
   "metadata": {},
   "outputs": [
    {
     "name": "stdout",
     "output_type": "stream",
     "text": [
      "p_value : 0.000999000999000999\n"
     ]
    }
   ],
   "source": [
    "obs, p, diffs = paired_perm_instance(correct_A,correct_B, n_perm=1000)\n",
    "\n",
    "print(f\"p_value : {p}\")"
   ]
  },
  {
   "cell_type": "code",
   "execution_count": 130,
   "id": "5be3d5ec",
   "metadata": {},
   "outputs": [],
   "source": [
    "end_min,end_max = bootstrap_ci_diff(correct_A, correct_B, B=1000000, seed=42)"
   ]
  },
  {
   "cell_type": "code",
   "execution_count": 131,
   "id": "a170fb1d",
   "metadata": {},
   "outputs": [
    {
     "data": {
      "text/plain": [
       "<matplotlib.lines.Line2D at 0x18397d8de80>"
      ]
     },
     "execution_count": 131,
     "metadata": {},
     "output_type": "execute_result"
    },
    {
     "data": {
      "image/png": "[encoded data removed]",
      "text/plain": [
       "<Figure size 640x480 with 1 Axes>"
      ]
     },
     "metadata": {},
     "output_type": "display_data"
    }
   ],
   "source": [
    "plt.hist(diffs)\n",
    "plt.axvline(x=obs, color='r', linestyle='--', label ='observed difference')\n",
    "plt.axvline(x=end_min, color='b', linestyle='--', label ='min')\n",
    "plt.axvline(x=end_max, color='b', linestyle='--', label ='max')"
   ]
  },
  {
   "cell_type": "markdown",
   "id": "54b1ab94",
   "metadata": {},
   "source": [
    "# Analyze by features"
   ]
  },
  {
   "cell_type": "code",
   "execution_count": null,
   "id": "cbd394de",
   "metadata": {},
   "outputs": [],
   "source": [
    "import re\n",
    "import numpy as np\n",
    "\n",
    "# --- small lexical lists ---\n",
    "NEGATIONS = {\n",
    "    \"not\",\"no\",\"never\",\"none\",\"nobody\",\"nothing\",\"nowhere\",\"neither\",\"nor\",\n",
    "    \"n't\",\"dont\",\"doesnt\",\"didnt\",\"cant\",\"couldnt\",\"shouldnt\",\"won't\",\"without\",\"don't\"\n",
    "}\n",
    "INTENSIFIERS = {\n",
    "    \"very\",\"really\",\"so\",\"super\",\"extremely\",\"highly\",\"incredibly\",\n",
    "    \"too\",\"quite\",\"pretty\",\"rather\",\"totally\",\"absolutely\",\"completely\",\"incredible\",\n",
    "    \"\"\n",
    "}\n",
    "\n",
    "# crude sentence splitter: counts ., !, ?\n",
    "_SENT_RE = re.compile(r\"[.!?]+\")\n",
    "\n",
    "# caps runs: 2+ uppercase letters (ASCII)\n",
    "_CAPS_RUN_RE = re.compile(r\"[A-Z]{2,}\")\n",
    "\n",
    "def build_feature_extractor(tfidf_vec, preproc_fn):\n",
    "    \n",
    "    analyzer = tfidf_vec.build_analyzer()\n",
    "    vocab = tfidf_vec.vocabulary_               \n",
    "    idf = tfidf_vec.idf_                         \n",
    "  \n",
    "    term_idf = {t: idf[i] for t, i in vocab.items()}\n",
    "\n",
    "    def features_for_texts(raw_texts):\n",
    "        n = len(raw_texts)\n",
    "        len_tok   = np.zeros(n, dtype=np.int32)\n",
    "        len_sent  = np.zeros(n, dtype=np.int32)\n",
    "        mean_idf  = np.zeros(n, dtype=np.float32)\n",
    "        oov_rate  = np.zeros(n, dtype=np.float32)\n",
    "        neg_count = np.zeros(n, dtype=np.int32)\n",
    "        intens    = np.zeros(n, dtype=np.int32)\n",
    "        bangs     = np.zeros(n, dtype=np.int32)\n",
    "        caps_runs = np.zeros(n, dtype=np.int32)\n",
    "\n",
    "        for i, t in enumerate(raw_texts):\n",
    "            t_clean = preproc_fn(t)\n",
    "            toks = analyzer(t_clean)        \n",
    "            T = len(toks)\n",
    "            len_tok[i]  = T\n",
    "            len_sent[i] = len(_SENT_RE.findall(t_clean))\n",
    "            bangs[i]    = t_clean.count(\"!\")\n",
    "            caps_runs[i]= len(_CAPS_RUN_RE.findall(t))\n",
    "\n",
    "            if T == 0:\n",
    "                mean_idf[i] = 0.0\n",
    "                oov_rate[i] = 1.0\n",
    "                neg_count[i] = 0\n",
    "                intens[i] = 0\n",
    "                continue\n",
    "\n",
    "            in_vocab_idfs = []\n",
    "            oov = 0\n",
    "            for w in toks:\n",
    "                if w in term_idf:\n",
    "                    in_vocab_idfs.append(term_idf[w])\n",
    "                else:\n",
    "                    oov += 1\n",
    "            oov_rate[i] = oov / T\n",
    "            mean_idf[i] = float(np.mean(in_vocab_idfs)) if in_vocab_idfs else 0.0\n",
    "\n",
    "            tok_lower = [w.lower() for w in toks]\n",
    "            neg_count[i] = sum(1 for w in tok_lower if w in NEGATIONS)\n",
    "            intens[i]    = sum(1 for w in tok_lower if w in INTENSIFIERS)\n",
    "\n",
    "        return {\n",
    "            \"len_tok\":   len_tok,\n",
    "            \"len_sent\":  len_sent,\n",
    "            \"mean_idf\":  mean_idf,\n",
    "            \"oov_rate\":  oov_rate,\n",
    "            \"neg_count\": neg_count,\n",
    "            \"intens\":    intens,\n",
    "            \"bangs\":     bangs,\n",
    "        }\n",
    "    return features_for_texts\n"
   ]
  },
  {
   "cell_type": "code",
   "execution_count": null,
   "id": "81c4eb42",
   "metadata": {},
   "outputs": [
    {
     "name": "stdout",
     "output_type": "stream",
     "text": [
      "short   SBERT-only=  14  TFIDF-only=  34  Δ=-20\n",
      "medium  SBERT-only=  15  TFIDF-only=  33  Δ=-18\n",
      "long    SBERT-only=  20  TFIDF-only=  38  Δ=-18\n"
     ]
    }
   ],
   "source": [
    "\n",
    "feat_fn = build_feature_extractor(tf_embed.vec, minimal_clean)\n",
    "\n",
    "\n",
    "F = feat_fn(texts_1k_r[X_test]) \n",
    "\n",
    "\n",
    "idx_A_only = np.where((correct_A==1) & (correct_B==0))[0]  \n",
    "idx_B_only = np.where((correct_A==0) & (correct_B==1))[0]  \n",
    "\n",
    "def bin_by_quantiles(x, q=(1/3,2/3)):\n",
    "    q1,q2 = np.quantile(x, q)\n",
    "    return np.digitize(x, [q1,q2]) \n",
    "\n",
    "bins_len = bin_by_quantiles(F[\"len_tok\"])\n",
    "for b,name in enumerate([\"short\",\"medium\",\"long\"]):\n",
    "    m = (bins_len==b)\n",
    "    Awin = int(np.sum(m & ((correct_A==1)&(correct_B==0))))\n",
    "    Bwin = int(np.sum(m & ((correct_A==0)&(correct_B==1))))\n",
    "    print(f\"{name:6}  SBERT-only={Awin:4d}  TFIDF-only={Bwin:4d}  Δ={Awin-Bwin:+d}\")\n"
   ]
  },
  {
   "cell_type": "code",
   "execution_count": null,
   "id": "f498f0dd",
   "metadata": {},
   "outputs": [],
   "source": [
    "import pandas as pd\n",
    "\n",
    "from statsmodels.stats.multitest import multipletests\n",
    "from scipy import stats\n",
    "\n",
    "idx_A_only = np.where((correct_A==1) & (correct_B==0))[0]\n",
    "idx_B_only = np.where((correct_A==0) & (correct_B==1))[0]\n",
    "idx_disc = np.r_[idx_A_only, idx_B_only]\n",
    "y = np.r_[np.ones(len(idx_A_only)), np.zeros(len(idx_B_only))]\n",
    "\n",
    "\n",
    "cols = [\"len_tok\",\"len_sent\",\"mean_idf\",\"oov_rate\",\"neg_count\",\"intens\",\"bangs\"]\n",
    "Xdf = pd.DataFrame({k: F[k][idx_disc] for k in cols})\n",
    "\n",
    "---\n",
    "rows = []\n",
    "for c in cols:\n",
    "    a = Xdf.loc[:len(idx_A_only)-1, c].to_numpy() \n",
    "    b = Xdf.loc[len(idx_A_only):, c].to_numpy()   \n",
    "\n",
    "\n",
    "    t, p_t = stats.ttest_ind(a, b, equal_var=False)\n",
    "  \n",
    "    s1, s2 = a.var(ddof=1), b.var(ddof=1)\n",
    "    n1, n2 = len(a), len(b)\n",
    "    sd_p = np.sqrt(((s1/n1) + (s2/n2)) * (n1*n2/(n1+n2))) \n",
    "    d = (a.mean() - b.mean()) / (np.sqrt((s1+s2)/2) + 1e-9)\n",
    "\n",
    "    u, p_mw = stats.mannwhitneyu(a, b, alternative=\"two-sided\")\n",
    "    rrb = 1 - 2*u/(n1*n2) \n",
    "\n",
    "    rows.append((c, a.mean(), b.mean(), d, t, p_t, rrb, p_mw))\n",
    "\n",
    "tbl = pd.DataFrame(rows, columns=[\"feature\",\"mean_SBERT\",\"mean_TFIDF\",\n",
    "                                  \"t\",\"p_t\",\"rank_biserial\",\"p_mw\"])\n",
    "\n",
    "tbl[\"p_adj\"] = multipletests(tbl[\"p_t\"], method=\"fdr_bh\")[1]\n",
    "tbl.sort_values(\"p_adj\", inplace=True)\n",
    "print(tbl)"
   ]
  },
  {
   "cell_type": "code",
   "execution_count": 152,
   "id": "5c543bea",
   "metadata": {},
   "outputs": [
    {
     "data": {
      "text/html": [
       "<div>\n",
       "<style scoped>\n",
       "    .dataframe tbody tr th:only-of-type {\n",
       "        vertical-align: middle;\n",
       "    }\n",
       "\n",
       "    .dataframe tbody tr th {\n",
       "        vertical-align: top;\n",
       "    }\n",
       "\n",
       "    .dataframe thead th {\n",
       "        text-align: right;\n",
       "    }\n",
       "</style>\n",
       "<table border=\"1\" class=\"dataframe\">\n",
       "  <thead>\n",
       "    <tr style=\"text-align: right;\">\n",
       "      <th></th>\n",
       "      <th>len_tok</th>\n",
       "      <th>len_sent</th>\n",
       "      <th>mean_idf</th>\n",
       "      <th>oov_rate</th>\n",
       "      <th>neg_count</th>\n",
       "      <th>intens</th>\n",
       "      <th>bangs</th>\n",
       "      <th>caps_runs</th>\n",
       "    </tr>\n",
       "  </thead>\n",
       "  <tbody>\n",
       "    <tr>\n",
       "      <th>0</th>\n",
       "      <td>279</td>\n",
       "      <td>9</td>\n",
       "      <td>5.029482</td>\n",
       "      <td>0.265233</td>\n",
       "      <td>2</td>\n",
       "      <td>2</td>\n",
       "      <td>0</td>\n",
       "      <td>0</td>\n",
       "    </tr>\n",
       "    <tr>\n",
       "      <th>1</th>\n",
       "      <td>391</td>\n",
       "      <td>17</td>\n",
       "      <td>4.579808</td>\n",
       "      <td>0.184143</td>\n",
       "      <td>1</td>\n",
       "      <td>6</td>\n",
       "      <td>0</td>\n",
       "      <td>1</td>\n",
       "    </tr>\n",
       "    <tr>\n",
       "      <th>2</th>\n",
       "      <td>401</td>\n",
       "      <td>7</td>\n",
       "      <td>4.934462</td>\n",
       "      <td>0.291771</td>\n",
       "      <td>2</td>\n",
       "      <td>1</td>\n",
       "      <td>10</td>\n",
       "      <td>0</td>\n",
       "    </tr>\n",
       "    <tr>\n",
       "      <th>3</th>\n",
       "      <td>603</td>\n",
       "      <td>13</td>\n",
       "      <td>4.993753</td>\n",
       "      <td>0.265340</td>\n",
       "      <td>0</td>\n",
       "      <td>3</td>\n",
       "      <td>0</td>\n",
       "      <td>1</td>\n",
       "    </tr>\n",
       "    <tr>\n",
       "      <th>4</th>\n",
       "      <td>1117</td>\n",
       "      <td>36</td>\n",
       "      <td>4.801936</td>\n",
       "      <td>0.246195</td>\n",
       "      <td>5</td>\n",
       "      <td>11</td>\n",
       "      <td>1</td>\n",
       "      <td>8</td>\n",
       "    </tr>\n",
       "    <tr>\n",
       "      <th>...</th>\n",
       "      <td>...</td>\n",
       "      <td>...</td>\n",
       "      <td>...</td>\n",
       "      <td>...</td>\n",
       "      <td>...</td>\n",
       "      <td>...</td>\n",
       "      <td>...</td>\n",
       "      <td>...</td>\n",
       "    </tr>\n",
       "    <tr>\n",
       "      <th>149</th>\n",
       "      <td>725</td>\n",
       "      <td>17</td>\n",
       "      <td>4.468605</td>\n",
       "      <td>0.213793</td>\n",
       "      <td>9</td>\n",
       "      <td>2</td>\n",
       "      <td>0</td>\n",
       "      <td>0</td>\n",
       "    </tr>\n",
       "    <tr>\n",
       "      <th>150</th>\n",
       "      <td>681</td>\n",
       "      <td>20</td>\n",
       "      <td>4.539519</td>\n",
       "      <td>0.227606</td>\n",
       "      <td>4</td>\n",
       "      <td>3</td>\n",
       "      <td>0</td>\n",
       "      <td>0</td>\n",
       "    </tr>\n",
       "    <tr>\n",
       "      <th>151</th>\n",
       "      <td>219</td>\n",
       "      <td>4</td>\n",
       "      <td>4.580695</td>\n",
       "      <td>0.223744</td>\n",
       "      <td>2</td>\n",
       "      <td>1</td>\n",
       "      <td>0</td>\n",
       "      <td>0</td>\n",
       "    </tr>\n",
       "    <tr>\n",
       "      <th>152</th>\n",
       "      <td>245</td>\n",
       "      <td>7</td>\n",
       "      <td>4.496560</td>\n",
       "      <td>0.212245</td>\n",
       "      <td>1</td>\n",
       "      <td>4</td>\n",
       "      <td>2</td>\n",
       "      <td>1</td>\n",
       "    </tr>\n",
       "    <tr>\n",
       "      <th>153</th>\n",
       "      <td>143</td>\n",
       "      <td>3</td>\n",
       "      <td>4.444333</td>\n",
       "      <td>0.209790</td>\n",
       "      <td>1</td>\n",
       "      <td>1</td>\n",
       "      <td>0</td>\n",
       "      <td>2</td>\n",
       "    </tr>\n",
       "  </tbody>\n",
       "</table>\n",
       "<p>154 rows × 8 columns</p>\n",
       "</div>"
      ],
      "text/plain": [
       "     len_tok  len_sent  mean_idf  oov_rate  neg_count  intens  bangs  \\\n",
       "0        279         9  5.029482  0.265233          2       2      0   \n",
       "1        391        17  4.579808  0.184143          1       6      0   \n",
       "2        401         7  4.934462  0.291771          2       1     10   \n",
       "3        603        13  4.993753  0.265340          0       3      0   \n",
       "4       1117        36  4.801936  0.246195          5      11      1   \n",
       "..       ...       ...       ...       ...        ...     ...    ...   \n",
       "149      725        17  4.468605  0.213793          9       2      0   \n",
       "150      681        20  4.539519  0.227606          4       3      0   \n",
       "151      219         4  4.580695  0.223744          2       1      0   \n",
       "152      245         7  4.496560  0.212245          1       4      2   \n",
       "153      143         3  4.444333  0.209790          1       1      0   \n",
       "\n",
       "     caps_runs  \n",
       "0            0  \n",
       "1            1  \n",
       "2            0  \n",
       "3            1  \n",
       "4            8  \n",
       "..         ...  \n",
       "149          0  \n",
       "150          0  \n",
       "151          0  \n",
       "152          1  \n",
       "153          2  \n",
       "\n",
       "[154 rows x 8 columns]"
      ]
     },
     "execution_count": 152,
     "metadata": {},
     "output_type": "execute_result"
    }
   ],
   "source": [
    "Xdf"
   ]
  },
  {
   "cell_type": "code",
   "execution_count": 161,
   "id": "49c55cb7",
   "metadata": {},
   "outputs": [
    {
     "data": {
      "text/html": [
       "<div>\n",
       "<style scoped>\n",
       "    .dataframe tbody tr th:only-of-type {\n",
       "        vertical-align: middle;\n",
       "    }\n",
       "\n",
       "    .dataframe tbody tr th {\n",
       "        vertical-align: top;\n",
       "    }\n",
       "\n",
       "    .dataframe thead th {\n",
       "        text-align: right;\n",
       "    }\n",
       "</style>\n",
       "<table border=\"1\" class=\"dataframe\">\n",
       "  <thead>\n",
       "    <tr style=\"text-align: right;\">\n",
       "      <th></th>\n",
       "      <th>feature</th>\n",
       "      <th>mean_SBERT</th>\n",
       "      <th>mean_TFIDF</th>\n",
       "      <th>cohen_d</th>\n",
       "      <th>t</th>\n",
       "      <th>p_t</th>\n",
       "      <th>rank_biserial</th>\n",
       "      <th>p_mw</th>\n",
       "      <th>p_adj</th>\n",
       "    </tr>\n",
       "  </thead>\n",
       "  <tbody>\n",
       "    <tr>\n",
       "      <th>2</th>\n",
       "      <td>mean_idf</td>\n",
       "      <td>4.835711</td>\n",
       "      <td>4.741173</td>\n",
       "      <td>0.353302</td>\n",
       "      <td>1.975227</td>\n",
       "      <td>0.051706</td>\n",
       "      <td>-0.180175</td>\n",
       "      <td>0.072490</td>\n",
       "      <td>0.180970</td>\n",
       "    </tr>\n",
       "    <tr>\n",
       "      <th>3</th>\n",
       "      <td>oov_rate</td>\n",
       "      <td>0.264950</td>\n",
       "      <td>0.245450</td>\n",
       "      <td>0.377894</td>\n",
       "      <td>2.069365</td>\n",
       "      <td>0.042088</td>\n",
       "      <td>-0.162682</td>\n",
       "      <td>0.104916</td>\n",
       "      <td>0.180970</td>\n",
       "    </tr>\n",
       "    <tr>\n",
       "      <th>0</th>\n",
       "      <td>len_tok</td>\n",
       "      <td>447.285714</td>\n",
       "      <td>415.000000</td>\n",
       "      <td>0.107922</td>\n",
       "      <td>0.628392</td>\n",
       "      <td>0.531219</td>\n",
       "      <td>-0.108066</td>\n",
       "      <td>0.281706</td>\n",
       "      <td>0.743707</td>\n",
       "    </tr>\n",
       "    <tr>\n",
       "      <th>4</th>\n",
       "      <td>neg_count</td>\n",
       "      <td>2.612245</td>\n",
       "      <td>2.314286</td>\n",
       "      <td>0.127060</td>\n",
       "      <td>0.734578</td>\n",
       "      <td>0.464427</td>\n",
       "      <td>-0.096016</td>\n",
       "      <td>0.329718</td>\n",
       "      <td>0.743707</td>\n",
       "    </tr>\n",
       "    <tr>\n",
       "      <th>6</th>\n",
       "      <td>bangs</td>\n",
       "      <td>0.959184</td>\n",
       "      <td>0.590476</td>\n",
       "      <td>0.155072</td>\n",
       "      <td>0.790749</td>\n",
       "      <td>0.432581</td>\n",
       "      <td>0.029155</td>\n",
       "      <td>0.721941</td>\n",
       "      <td>0.743707</td>\n",
       "    </tr>\n",
       "    <tr>\n",
       "      <th>5</th>\n",
       "      <td>intens</td>\n",
       "      <td>3.183673</td>\n",
       "      <td>3.047619</td>\n",
       "      <td>0.050948</td>\n",
       "      <td>0.286519</td>\n",
       "      <td>0.775204</td>\n",
       "      <td>-0.000777</td>\n",
       "      <td>0.995306</td>\n",
       "      <td>0.904404</td>\n",
       "    </tr>\n",
       "    <tr>\n",
       "      <th>1</th>\n",
       "      <td>len_sent</td>\n",
       "      <td>12.346939</td>\n",
       "      <td>12.209524</td>\n",
       "      <td>0.015429</td>\n",
       "      <td>0.089723</td>\n",
       "      <td>0.928693</td>\n",
       "      <td>-0.022546</td>\n",
       "      <td>0.823205</td>\n",
       "      <td>0.928693</td>\n",
       "    </tr>\n",
       "  </tbody>\n",
       "</table>\n",
       "</div>"
      ],
      "text/plain": [
       "     feature  mean_SBERT  mean_TFIDF   cohen_d         t       p_t  \\\n",
       "2   mean_idf    4.835711    4.741173  0.353302  1.975227  0.051706   \n",
       "3   oov_rate    0.264950    0.245450  0.377894  2.069365  0.042088   \n",
       "0    len_tok  447.285714  415.000000  0.107922  0.628392  0.531219   \n",
       "4  neg_count    2.612245    2.314286  0.127060  0.734578  0.464427   \n",
       "6      bangs    0.959184    0.590476  0.155072  0.790749  0.432581   \n",
       "5     intens    3.183673    3.047619  0.050948  0.286519  0.775204   \n",
       "1   len_sent   12.346939   12.209524  0.015429  0.089723  0.928693   \n",
       "\n",
       "   rank_biserial      p_mw     p_adj  \n",
       "2      -0.180175  0.072490  0.180970  \n",
       "3      -0.162682  0.104916  0.180970  \n",
       "0      -0.108066  0.281706  0.743707  \n",
       "4      -0.096016  0.329718  0.743707  \n",
       "6       0.029155  0.721941  0.743707  \n",
       "5      -0.000777  0.995306  0.904404  \n",
       "1      -0.022546  0.823205  0.928693  "
      ]
     },
     "execution_count": 161,
     "metadata": {},
     "output_type": "execute_result"
    }
   ],
   "source": [
    "tbl"
   ]
  }
 ],
 "metadata": {
  "kernelspec": {
   "display_name": "vectorization",
   "language": "python",
   "name": "python3"
  },
  "language_info": {
   "codemirror_mode": {
    "name": "ipython",
    "version": 3
   },
   "file_extension": ".py",
   "mimetype": "text/x-python",
   "name": "python",
   "nbconvert_exporter": "python",
   "pygments_lexer": "ipython3",
   "version": "3.12.4"
  }
 },
 "nbformat": 4,
 "nbformat_minor": 5
}
