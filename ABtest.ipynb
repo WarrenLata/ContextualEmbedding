{
 "cells": [
  {
   "cell_type": "markdown",
   "id": "366729fd",
   "metadata": {},
   "source": [
    "# Librairies"
   ]
  },
  {
   "cell_type": "code",
   "execution_count": null,
   "id": "94e04963",
   "metadata": {},
   "outputs": [
    {
     "name": "stderr",
     "output_type": "stream",
     "text": [
      "/home/wawa/anaconda3/envs/vectorization/lib/python3.12/site-packages/tqdm/auto.py:21: TqdmWarning: IProgress not found. Please update jupyter and ipywidgets. See https://ipywidgets.readthedocs.io/en/stable/user_install.html\n",
      "  from .autonotebook import tqdm as notebook_tqdm\n"
     ]
    }
   ],
   "source": [
    "from datasets import load_dataset, concatenate_datasets\n",
    "from sklearn.model_selection import StratifiedKFold\n",
    "from sklearn.model_selection import StratifiedShuffleSplit\n",
    "import numpy as np\n",
    "import torch.nn.functional as F\n",
    "\n",
    "from sklearn.linear_model import LogisticRegression\n",
    "\n",
    "import matplotlib.pyplot as plt"
   ]
  },
  {
   "cell_type": "markdown",
   "id": "8466f583",
   "metadata": {},
   "source": [
    "# Load the data"
   ]
  },
  {
   "cell_type": "code",
   "execution_count": 2,
   "id": "4870acef",
   "metadata": {},
   "outputs": [
    {
     "name": "stdout",
     "output_type": "stream",
     "text": [
      "50000\n",
      "I rented I AM CURIOUS-YELLOW from my video store because of all the controversy that surrounded it when it was first released in 1967. I also heard that at first it was seized by U.S. customs if it ever tried to enter this country, therefore being a fan of films considered \"controversial\" I really had to see this for myself.<br /><br />The plot is centered around a young Swedish drama student named Lena who wants to learn everything she can about life. In particular she wants to focus her attentions to making some sort of documentary on what the average Swede thought about certain political issues such as the Vietnam War and race issues in the United States. In between asking politicians and ordinary denizens of Stockholm about their opinions on politics, she has sex with her drama teacher, classmates, and married men.<br /><br />What kills me about I AM CURIOUS-YELLOW is that 40 years ago, this was considered pornographic. Really, the sex and nudity scenes are few and far between, even then it's not shot like some cheaply made porno. While my countrymen mind find it shocking, in reality sex and nudity are a major staple in Swedish cinema. Even Ingmar Bergman, arguably their answer to good old boy John Ford, had sex scenes in his films.<br /><br />I do commend the filmmakers for the fact that any sex shown in the film is shown for artistic purposes rather than just to shock people and make money to be shown in pornographic theaters in America. I AM CURIOUS-YELLOW is a good film for anyone wanting to study the meat and potatoes (no pun intended) of Swedish cinema. But really, this film doesn't have much of a plot.\n"
     ]
    }
   ],
   "source": [
    "\n",
    "# Load IMDb dataset\n",
    "raw = load_dataset(\"imdb\")\n",
    "\n",
    "# Combine train + test into a single dataset (50k rows)\n",
    "all_data = concatenate_datasets([raw[\"train\"], raw[\"test\"]])\n",
    "texts = all_data['text']\n",
    "print(len(all_data))  # 50000\n",
    "print(all_data[0]['text'])"
   ]
  },
  {
   "cell_type": "markdown",
   "id": "5e195219",
   "metadata": {},
   "source": [
    "## stritified k-folds"
   ]
  },
  {
   "cell_type": "code",
   "execution_count": 3,
   "id": "00cc9170",
   "metadata": {},
   "outputs": [],
   "source": [
    "sss = StratifiedShuffleSplit(n_splits=1, test_size=10000, random_state=42)\n",
    "y      = np.array(all_data['label'])\n",
    "_, idx_1k = next(sss.split(texts, y))\n",
    "texts_1k = np.array(texts)[idx_1k]\n",
    "y_1k     = y[idx_1k]"
   ]
  },
  {
   "cell_type": "code",
   "execution_count": 65,
   "id": "857d21e6",
   "metadata": {},
   "outputs": [],
   "source": [
    "\n",
    "skf = StratifiedKFold(n_splits=20, shuffle=True, random_state=42)\n",
    "splits = list(skf.split(np.zeros(len(y_1k)), y_1k))"
   ]
  },
  {
   "cell_type": "markdown",
   "id": "91f31258",
   "metadata": {},
   "source": [
    "## Text length distribution"
   ]
  },
  {
   "cell_type": "code",
   "execution_count": 81,
   "id": "70cae435",
   "metadata": {},
   "outputs": [
    {
     "data": {
      "image/png": "[encoded data removed]",
      "text/plain": [
       "<Figure size 640x480 with 1 Axes>"
      ]
     },
     "metadata": {},
     "output_type": "display_data"
    }
   ],
   "source": [
    "lengths_data = [len(t.split()) for t in texts_1k]\n",
    "\n",
    "plt.hist(lengths_data)\n",
    "plt.show()"
   ]
  },
  {
   "cell_type": "markdown",
   "id": "648460c6",
   "metadata": {},
   "source": [
    "# CLeaning"
   ]
  },
  {
   "cell_type": "code",
   "execution_count": 24,
   "id": "ebc364c0",
   "metadata": {},
   "outputs": [],
   "source": [
    "import re, html, unicodedata\n",
    "\n",
    "_WS        = re.compile(r\"\\s+\")\n",
    "_HTML_TAG  = re.compile(r\"<[^>]+>\")\n",
    "_BR        = re.compile(r\"<br\\s*/?>\", flags=re.I)\n",
    "_RATING    = re.compile(r\"\\b\\d{1,2}\\s*/\\s*10\\b\")  # e.g. 8/10, 10/10\n",
    "\n",
    "def minimal_clean(text: str, max_words: int = 800) -> str:\n",
    "    t = unicodedata.normalize(\"NFKC\", str(text))  # unicode normalize\n",
    "    t = html.unescape(t)                          # decode &amp; etc.\n",
    "    t = _BR.sub(\" \", t)                           # <br> -> space\n",
    "    t = _HTML_TAG.sub(\" \", t)                     # drop other tags\n",
    "    t = _RATING.sub(\" \", t)                       # remove 8/10 leaks\n",
    "    t = _WS.sub(\" \", t).strip()  \n",
    "   \n",
    "    return t"
   ]
  },
  {
   "cell_type": "markdown",
   "id": "60756d65",
   "metadata": {},
   "source": []
  },
  {
   "cell_type": "markdown",
   "id": "43dd6677",
   "metadata": {},
   "source": [
    "## Transformers model"
   ]
  },
  {
   "cell_type": "code",
   "execution_count": null,
   "id": "7ec40ea3",
   "metadata": {},
   "outputs": [],
   "source": [
    "import numpy as np\n",
    "import torch\n",
    "import torch.nn as nn\n",
    "import torch.nn.functional as F\n",
    "from transformers import AutoTokenizer, AutoModel\n",
    "\n",
    "\n",
    "#device ='cpu'\n",
    "device = \"cuda\" if torch.cuda.is_available() else \"cpu\"\n",
    "model_name = \"sentence-transformers/all-MiniLM-L6-v2\"  \n",
    "tokenizer = AutoTokenizer.from_pretrained(model_name)\n",
    "encoder   = AutoModel.from_pretrained(model_name).to(device)\n",
    "\n",
    "def mean_pooling(model_output, attention_mask):\n",
    "    token_embeddings = model_output[0] #First element of model_output contains all token embeddings\n",
    "    input_mask_expanded = attention_mask.unsqueeze(-1).expand(token_embeddings.size()).float()\n",
    "    return torch.sum(token_embeddings * input_mask_expanded, 1) / torch.clamp(input_mask_expanded.sum(1), min=1e-9)\n",
    "\n",
    "class TransformersEmbedder(nn.Module):\n",
    "    def __init__(self, tokenizer, encoder, device,batch_size: int = 64,max_length=512,stride:int=128, chunck_batch = 16):\n",
    "        super().__init__()\n",
    "        self.tokenizer =  tokenizer\n",
    "        self.encoder  = encoder.eval()\n",
    "        self.device = device\n",
    "        self.batch_size = batch_size\n",
    "        self.max_length = max_length\n",
    "        self.stride = stride\n",
    "        self.chunck_batch = chunck_batch\n",
    "\n",
    "\n",
    "    def forward(self, texts):\n",
    "        \n",
    "        embs = []\n",
    "        \n",
    "        with torch.no_grad():\n",
    "            for t in texts:\n",
    "                \n",
    "                encoded = self.tokenizer(\n",
    "                    t,\n",
    "                    truncation=True,\n",
    "                    stride = self.stride,\n",
    "                    return_tensors=\"pt\",\n",
    "                    return_overflowing_tokens=True,\n",
    "                    max_length = self.max_length,\n",
    "                    padding=True\n",
    "                ).to(self.device)\n",
    "\n",
    "                input_ids, attention = encoded['input_ids'] , encoded['attention_mask']\n",
    "                chunks_vect = []\n",
    "                token_counts = []\n",
    "                for j in range(0,input_ids.size()[0],self.chunck_batch):\n",
    "                    ids_b = input_ids[j:j+self.chunck_batch]\n",
    "                    attn_b =  attention[j:j+self.chunck_batch]\n",
    "                    output = self.encoder(input_ids=ids_b, attention_mask=attn_b)\n",
    "                    embeddings = mean_pooling(output, attn_b)\n",
    "                    #embeddings = F.normalize(embeddings, p=2, dim=1)\n",
    "                    chunks_vect.append(embeddings.cpu().numpy().astype(np.float32))\n",
    "                    token_counts.append(attn_b.sum(dim=1).cpu().numpy().astype(np.float32))\n",
    "                chunks_vect = np.vstack(chunks_vect).astype(np.float32)\n",
    "                token_counts = np.concatenate(token_counts).astype(np.float32)  # (C,\n",
    "\n",
    "                w = token_counts / (token_counts.sum() + 1e-9)     # weights\n",
    "                doc = (chunks_vect * w[:, None]).sum(axis=0)\n",
    "                embs.append(doc / (np.linalg.norm(doc) + 1e-9))\n",
    "        return np.vstack(embs)  # shape: (B, h,p=idden_size)\n",
    "    \n",
    "\n",
    "model = TransformersEmbedder(tokenizer, encoder, device)"
   ]
  },
  {
   "cell_type": "code",
   "execution_count": null,
   "id": "7d12d521",
   "metadata": {},
   "outputs": [],
   "source": [
    "All_mini_vectors = model([minimal_clean(t) for t in list(texts_1k)])"
   ]
  },
  {
   "cell_type": "markdown",
   "id": "f6749db8",
   "metadata": {},
   "source": [
    "# Static vector"
   ]
  },
  {
   "cell_type": "code",
   "execution_count": 99,
   "id": "261db5fd",
   "metadata": {},
   "outputs": [],
   "source": [
    "\n",
    "def minimal_clean(text: str, max_words: int = 800) -> str:\n",
    "    t = unicodedata.normalize(\"NFKC\", str(text))  # unicode normalize\n",
    "    t = html.unescape(t)                          # decode &amp; etc.\n",
    "    t = _BR.sub(\" \", t)                           # <br> -> space\n",
    "    t = _HTML_TAG.sub(\" \", t)                     # drop other tags\n",
    "    t = _RATING.sub(\" \", t)                       # remove 8/10 leaks\n",
    "    t = _WS.sub(\" \", t).strip()\n",
    "    t = t.lower()  \n",
    "   \n",
    "    return t"
   ]
  },
  {
   "cell_type": "code",
   "execution_count": 100,
   "id": "7dd4898c",
   "metadata": {},
   "outputs": [],
   "source": [
    "from sklearn.feature_extraction.text import TfidfVectorizer\n",
    "import numpy as np\n",
    "\n",
    "\n",
    "class TfidfEmbedder:\n",
    "    def __init__(self,\n",
    "                 analyzer=\"word\",\n",
    "                 ngram_range=(1,2),\n",
    "                 min_df=2,\n",
    "                 max_df=0.9,\n",
    "                 sublinear_tf=True,\n",
    "                 norm=\"l2\"):\n",
    "        self.vec = TfidfVectorizer(analyzer=analyzer,\n",
    "                                   ngram_range=ngram_range,\n",
    "                                   min_df=min_df, max_df=max_df,\n",
    "                                   sublinear_tf=sublinear_tf,\n",
    "                                   norm=norm,\n",
    "                                   preprocessor=minimal_clean)\n",
    "    def fit(self, texts):\n",
    "        self.vec.fit(texts)\n",
    "        return self\n",
    "    def transform(self, texts):\n",
    "        return self.vec.transform(texts)\n",
    "    \n",
    "\n",
    "\n"
   ]
  },
  {
   "cell_type": "markdown",
   "id": "ce5ac873",
   "metadata": {},
   "source": [
    "# Training and score computation"
   ]
  },
  {
   "cell_type": "code",
   "execution_count": 118,
   "id": "1aa56f76",
   "metadata": {},
   "outputs": [],
   "source": [
    "from sklearn.metrics import accuracy_score, f1_score\n",
    "\n",
    "correct_A_list = []\n",
    "correct_B_list =  []\n",
    "length_text = []\n",
    "accuracies_A = []\n",
    "accuracies_B = []\n",
    "for fold, (tr,te) in enumerate(skf.split(np.zeros(len(y_1k)), y_1k)):\n",
    "    tr_transformers = All_mini_vectors[tr]\n",
    "    te_transformers = All_mini_vectors[te]\n",
    "    \n",
    "   \n",
    "    y_test = y_1k[te]\n",
    "\n",
    "    tr = list(tr)\n",
    "    te = list(te)\n",
    "\n",
    "    tf_embed = TfidfEmbedder()\n",
    "    tf_vector_train = tf_embed.vec.fit_transform(texts_1k[tr])\n",
    "    tf_vector_test = tf_embed.transform(texts_1k[te])\n",
    "    \n",
    "\n",
    "\n",
    "    model_A = LogisticRegression(max_iter=2000,solver=\"lbfgs\").fit(tr_transformers,y_1k[tr])\n",
    "    model_B =  LogisticRegression(max_iter=2000,solver=\"liblinear\").fit(tf_vector_train,y_1k[tr])\n",
    "\n",
    "    y_hat_A =  model_A.predict(te_transformers)\n",
    "    y_hat_B = model_B.predict(tf_vector_test)\n",
    "    \n",
    "    correct_A = (y_hat_A == y_test)\n",
    "    correct_B = (y_hat_B == y_test)\n",
    "\n",
    "    correct_A_list.append(correct_A)\n",
    "    correct_B_list.append(correct_B)\n",
    "    length_text.append([len(minimal_clean(texts_1k[i].split())) for i in te])\n",
    "\n",
    "\n",
    "    accuracies_A.append(accuracy_score(y_test,y_hat_A))\n",
    "\n",
    "    accuracies_B.append(accuracy_score(y_test,y_hat_B))\n",
    "\n",
    "\n",
    "\n",
    "\n",
    "\n"
   ]
  },
  {
   "cell_type": "code",
   "execution_count": 119,
   "id": "5be366bb",
   "metadata": {},
   "outputs": [],
   "source": [
    "accuracies_A = np.array(accuracies_A)\n",
    "accuracies_B = np.array(accuracies_B)\n",
    "\n",
    "correct_A = np.concatenate(correct_A_list).astype(int)   # shape (N,)\n",
    "correct_B = np.concatenate(correct_B_list).astype(int)   # shape (N,)\n",
    "lengths   = np.array([L for fold_L in length_text for L in fold_L], dtype=int)  # shape (N,)"
   ]
  },
  {
   "cell_type": "markdown",
   "id": "96924021",
   "metadata": {},
   "source": [
    "## Results per folds"
   ]
  },
  {
   "cell_type": "code",
   "execution_count": 69,
   "id": "7d79447a",
   "metadata": {},
   "outputs": [
    {
     "name": "stdout",
     "output_type": "stream",
     "text": [
      "p_value : 9.999000099990002e-05\n"
     ]
    }
   ],
   "source": [
    "import random\n",
    "from statistics import mean\n",
    "\n",
    "def paired_perm_folds(acc_A, acc_B, n_perm=10000, seed=42):\n",
    "    rng = np.random.default_rng(seed)\n",
    "    d = np.asarray(acc_A, float) - np.asarray(acc_B, float)  # paired diffs per fold\n",
    "    delta_obs = d.mean()\n",
    "    k = d.size\n",
    "    diffs = np.empty(n_perm, float)\n",
    "    for i in range(n_perm):\n",
    "        sign = np.where(rng.random(k) < 0.5, 1.0, -1.0)      # flip each pair with p=0.5\n",
    "        diffs[i] = (sign * d).mean()\n",
    "    p = (np.sum(np.abs(diffs)>= abs(delta_obs))+1) / (n_perm+1)  # two-sided\n",
    "    return float(delta_obs), float(p), diffs\n",
    "\n",
    "\n",
    "obs, p, diffs = paired_perm_folds(accuracies_A,accuracies_B)\n",
    "\n",
    "print(f\"p_value : {p}\")\n",
    "\n"
   ]
  },
  {
   "cell_type": "markdown",
   "id": "1d761abc",
   "metadata": {},
   "source": [
    "## Results per instance"
   ]
  },
  {
   "cell_type": "code",
   "execution_count": 121,
   "id": "9b732a1e",
   "metadata": {},
   "outputs": [
    {
     "name": "stdout",
     "output_type": "stream",
     "text": [
      "p_value : 9.999000099990002e-05\n"
     ]
    }
   ],
   "source": [
    "def paired_perm_instance(correct_A, correct_B, n_perm=10000, seed=42):\n",
    "    rng = np.random.default_rng(seed)\n",
    "    A = np.asarray(correct_A, int); B = np.asarray(correct_B, int)\n",
    "    delta_obs = A.mean() - B.mean()\n",
    "    N = A.size\n",
    "    diffs = np.empty(n_perm, float)\n",
    "    for i in range(n_perm):\n",
    "        swap = rng.random(N) < 0.5\n",
    "        A_p = np.where(swap, B, A)\n",
    "        B_p = np.where(swap, A, B)\n",
    "        diffs[i] = A_p.mean() - B_p.mean()\n",
    "    p = (np.sum(np.abs(diffs) >= abs(delta_obs)) + 1) / (n_perm + 1)\n",
    "    return float(delta_obs), float(p),diffs\n",
    "obs, p, diffs = paired_perm_instance(correct_A,correct_B)\n",
    "\n",
    "print(f\"p_value : {p}\")"
   ]
  },
  {
   "cell_type": "code",
   "execution_count": null,
   "id": "47c6e6f0",
   "metadata": {},
   "outputs": [
    {
     "name": "stdout",
     "output_type": "stream",
     "text": [
      "p_value : 9.99999000001e-07\n"
     ]
    }
   ],
   "source": [
    "def paired_perm_instance(correct_A, correct_B, n_perm=1000000, seed=42):\n",
    "    rng = np.random.default_rng(seed)\n",
    "    A = np.asarray(correct_A, int); B = np.asarray(correct_B, int)\n",
    "    delta_obs = A.mean() - B.mean()\n",
    "    N = A.size\n",
    "    diffs = np.empty(n_perm, float)\n",
    "    for i in range(n_perm):\n",
    "        swap = rng.random(N) < 0.5\n",
    "        A_p = np.where(swap, B, A)\n",
    "        B_p = np.where(swap, A, B)\n",
    "        diffs[i] = A_p.mean() - B_p.mean()\n",
    "    p = (np.sum(np.abs(diffs) >= abs(delta_obs)) + 1) / (n_perm + 1)\n",
    "    return float(delta_obs), float(p),diffs\n",
    "obs, p, diffs = paired_perm_instance(correct_A,correct_B)\n",
    "\n",
    "print(f\"p_value : {p}\")"
   ]
  },
  {
   "cell_type": "markdown",
   "id": "cefaeea0",
   "metadata": {},
   "source": [
    "## Boostrap CI"
   ]
  },
  {
   "cell_type": "code",
   "execution_count": 114,
   "id": "11251bd7",
   "metadata": {},
   "outputs": [],
   "source": [
    "def bootstrap_ci_diff(correct_A, correct_B, B=100000, seed=42):\n",
    "    import numpy as np\n",
    "    rng = np.random.default_rng(seed)\n",
    "    N = len(correct_A)\n",
    "    deltas = np.empty(B, float)\n",
    "    A = np.asarray(correct_A, int); Bv = np.asarray(correct_B, int)\n",
    "    for i in range(B):\n",
    "        idx = rng.integers(0, N, size=N)\n",
    "        deltas[i] = A[idx].mean() - Bv[idx].mean()\n",
    "    return float(np.quantile(deltas, 0.025)), float(np.quantile(deltas, 0.975))\n",
    "\n",
    "\n",
    "end_min,end_max = bootstrap_ci_diff(correct_A, correct_B, B=100000, seed=0)"
   ]
  },
  {
   "cell_type": "markdown",
   "id": "6c0ca047",
   "metadata": {},
   "source": [
    "## Vizualization"
   ]
  },
  {
   "cell_type": "code",
   "execution_count": null,
   "id": "9f251e07",
   "metadata": {},
   "outputs": [
    {
     "data": {
      "text/plain": [
       "<matplotlib.lines.Line2D at 0x7e335fcb8680>"
      ]
     },
     "execution_count": 117,
     "metadata": {},
     "output_type": "execute_result"
    },
    {
     "data": {
      "image/png": "[encoded data removed]",
      "text/plain": [
       "<Figure size 640x480 with 1 Axes>"
      ]
     },
     "metadata": {},
     "output_type": "display_data"
    }
   ],
   "source": [
    "plt.hist(diffs)\n",
    "plt.axvline(x=obs, color='r', linestyle='--', label ='observed difference')\n",
    "plt.axvline(x=end_min, color='b', linestyle='--', label ='min')\n",
    "plt.axvline(x=end_max, color='b', linestyle='--', label ='max')"
   ]
  },
  {
   "cell_type": "markdown",
   "id": "42cfd928",
   "metadata": {},
   "source": [
    "## Analyze by tetxt length"
   ]
  },
  {
   "cell_type": "code",
   "execution_count": null,
   "id": "e7605e2e",
   "metadata": {},
   "outputs": [],
   "source": []
  },
  {
   "cell_type": "code",
   "execution_count": 120,
   "id": "d562ca22",
   "metadata": {},
   "outputs": [
    {
     "name": "stdout",
     "output_type": "stream",
     "text": [
      "short  | n=3329 | acc_A=0.838 acc_B=0.894 | Δ=-0.056 | p_perm=0.000\n",
      "medium | n=3336 | acc_A=0.819 acc_B=0.878 | Δ=-0.059 | p_perm=0.000\n",
      "long   | n=3335 | acc_A=0.817 acc_B=0.890 | Δ=-0.073 | p_perm=0.000\n"
     ]
    }
   ],
   "source": [
    "q1, q2 = np.quantile(lengths, [1/3, 2/3])\n",
    "bins = np.digitize(lengths, [q1, q2])   # 0=short, 1=medium, 2=long\n",
    "\n",
    "for b, name in enumerate([\"short\", \"medium\", \"long\"]):\n",
    "    idx = (bins == b)\n",
    "    n = int(idx.sum())\n",
    "    if n < 20:\n",
    "        print(f\"{name}: too few samples (n={n})\"); \n",
    "        continue\n",
    "\n",
    "    acc_A = float(correct_A[idx].mean())\n",
    "    acc_B = float(correct_B[idx].mean())\n",
    "    obs,p, diffs = paired_perm_instance(correct_A[idx], correct_B[idx], n_perm=10000, seed=123)\n",
    "\n",
    "    print(f\"{name:<6} | n={n:4d} | acc_A={acc_A:.3f} acc_B={acc_B:.3f} | Δ={obs:+.3f} | p_perm={p:.3f}\")"
   ]
  }
 ],
 "metadata": {
  "kernelspec": {
   "display_name": "vectorization",
   "language": "python",
   "name": "python3"
  },
  "language_info": {
   "codemirror_mode": {
    "name": "ipython",
    "version": 3
   },
   "file_extension": ".py",
   "mimetype": "text/x-python",
   "name": "python",
   "nbconvert_exporter": "python",
   "pygments_lexer": "ipython3",
   "version": "3.12.11"
  }
 },
 "nbformat": 4,
 "nbformat_minor": 5
}
